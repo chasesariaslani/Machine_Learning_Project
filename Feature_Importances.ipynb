{
 "cells": [
  {
   "cell_type": "markdown",
   "metadata": {},
   "source": [
    "# Machine Learning: Feature Importance, Decision Tree, Random Forest, Ridge, Lasso, Elastic Net Regression on Housing Prices"
   ]
  },
  {
   "cell_type": "code",
   "execution_count": 146,
   "metadata": {},
   "outputs": [],
   "source": [
    "import pandas as pd\n",
    "import numpy as np\n",
    "from sklearn.model_selection import train_test_split\n",
    "from sklearn import tree\n",
    "from sklearn import ensemble\n",
    "from sklearn.linear_model import Ridge, Lasso, ElasticNet, LinearRegression\n",
    "import matplotlib.pyplot as plt \n",
    "import sklearn.model_selection as ms\n",
    "pd.set_option('display.max_columns', 85)\n",
    "pd.set_option('display.max_rows', 85)\n",
    "import random"
   ]
  },
  {
   "cell_type": "markdown",
   "metadata": {},
   "source": [
    "## Data Preparation"
   ]
  },
  {
   "cell_type": "code",
   "execution_count": 148,
   "metadata": {},
   "outputs": [],
   "source": [
    "# Loading up Data Frames from CSV files\n",
    "house_features = pd.read_csv('EDA_Final.csv')\n",
    "nominal = pd.read_csv('Nominal.csv')\n",
    "ordinal = pd.read_csv('Ordinal.csv')\n",
    "numeric = pd.read_csv('Numeric.csv').drop(columns='SalePrice')\n",
    "Y = np.log(pd.read_csv('SalePrice_final.csv')) # Takes away skewing\n",
    "Y = Y.SalePrice # removes index and prepped to be used as response variable."
   ]
  },
  {
   "cell_type": "code",
   "execution_count": 32,
   "metadata": {},
   "outputs": [],
   "source": [
    "# This is used to make the grid_tree_search easier. Thanks Aiko.\n",
    "\n",
    "def get_error(X_train, Y_train, X_test, Y_test, model, show = True):\n",
    "    model.fit(X_train, Y_train)\n",
    "    train_error = 1 - model.score(X_train, Y_train)\n",
    "    test_error  = 1 - model.score(X_test, Y_test)\n",
    "    if show:\n",
    "        print(\"The training error is: %.5f\" %train_error)\n",
    "        print(\"The test     error is: %.5f\" %test_error)\n",
    "    return [train_error, test_error]"
   ]
  },
  {
   "cell_type": "markdown",
   "metadata": {},
   "source": [
    "### Correlation Check and Feature Removal"
   ]
  },
  {
   "cell_type": "code",
   "execution_count": 34,
   "metadata": {},
   "outputs": [
    {
     "name": "stdout",
     "output_type": "stream",
     "text": [
      "Numeric:\n",
      "{'TotalBsmtSF,X1stFlrSF': 0.8195299750050355, 'X1stFlrSF,TotalBsmtSF': 0.8195299750050355, 'GrLivArea,TotRmsAbvGrd': 0.8254893743088377}\n",
      "Ordinal:\n",
      "{'ExterQual,KitchenQual': 0.7161221955032785}\n"
     ]
    }
   ],
   "source": [
    "# Checking for Correlation\n",
    "def correlation_generator(correlation):\n",
    "    d =dict()\n",
    "    for i in range(correlation.shape[0]//2):\n",
    "        for j in range(correlation.shape[1]):\n",
    "            if i!=j and correlation.iloc[i,j]>0.7:\n",
    "                t1 = correlation.index[i]\n",
    "                t2 = correlation.columns[j]\n",
    "                if t1 != t2:\n",
    "                    t = t1 +','+t2\n",
    "                    d[t] = correlation.iloc[i,j]    \n",
    "    return(d)\n",
    "\n",
    "numeric_corr = numeric.corr()\n",
    "ordinal_corr = ordinal.corr()\n",
    "\n",
    "print('Numeric:', correlation_generator(numeric_corr), sep='\\n')\n",
    "print('Ordinal:', correlation_generator(ordinal_corr), sep='\\n')"
   ]
  },
  {
   "cell_type": "code",
   "execution_count": 35,
   "metadata": {},
   "outputs": [],
   "source": [
    "# Remove highly correlated values:\n",
    "uncorrelated_numeric = numeric.drop(columns=['TotalBsmtSF', 'GrLivArea'])\n",
    "uncorrelated_ordinal = ordinal.drop(columns='KitchenQual')"
   ]
  },
  {
   "cell_type": "code",
   "execution_count": 36,
   "metadata": {},
   "outputs": [],
   "source": [
    "# Concatenate the dataframes together\n",
    "nominal_dummified = pd.get_dummies(nominal, drop_first=True)\n",
    "X = pd.concat([nominal_dummified, uncorrelated_ordinal, uncorrelated_numeric], axis=1)"
   ]
  },
  {
   "cell_type": "markdown",
   "metadata": {},
   "source": [
    "## Modeling"
   ]
  },
  {
   "cell_type": "markdown",
   "metadata": {},
   "source": [
    "### Tree Model"
   ]
  },
  {
   "cell_type": "code",
   "execution_count": 37,
   "metadata": {},
   "outputs": [
    {
     "name": "stdout",
     "output_type": "stream",
     "text": [
      "Training error: 0.0\n",
      "Test error: 0.3388559917227447\n",
      "R^2 Training: 1.0\n",
      "R^2 Test: 0.6611440082772553\n"
     ]
    }
   ],
   "source": [
    "# Tree Modeling\n",
    "random.seed(10)\n",
    "X_train, X_test, Y_train, Y_test = train_test_split(X, Y, test_size=0.2, random_state=0)\n",
    "\n",
    "tree_model = tree.DecisionTreeRegressor()\n",
    "tree_model.fit(X_train, Y_train)\n",
    "\n",
    "print(\"Training error: \" + str(1-tree_model.score(X_train, Y_train)))\n",
    "print(\"Test error: \" + str(1-tree_model.score(X_test, Y_test)))\n",
    "print(\"R^2 Training: \" + str(tree_model.score(X_train, Y_train)))\n",
    "print(\"R^2 Test: \" + str(tree_model.score(X_test, Y_test)))"
   ]
  },
  {
   "cell_type": "code",
   "execution_count": 149,
   "metadata": {},
   "outputs": [
    {
     "data": {
      "text/plain": [
       "Text(0.5, 0, 'Importance of Feature')"
      ]
     },
     "execution_count": 149,
     "metadata": {},
     "output_type": "execute_result"
    },
    {
     "data": {
      "image/png": "[encoded data removed]",
      "text/plain": [
       "<Figure size 432x288 with 1 Axes>"
      ]
     },
     "metadata": {
      "needs_background": "light"
     },
     "output_type": "display_data"
    }
   ],
   "source": [
    "# Calculates the important features.\n",
    "feature_importance = list(zip(X.columns, tree_model.feature_importances_))\n",
    "dtype = [('feature', 'S10'), ('importance', 'float')]\n",
    "feature_importance = np.array(feature_importance, dtype=dtype)\n",
    "feature_sort = np.sort(feature_importance, order='importance')[::-1]\n",
    "\n",
    "# This plots the top 10 features based on importance\n",
    "featureNames, featureScores = zip(*list(feature_sort))\n",
    "plt.barh(range(0,10), featureScores[0:10], tick_label=featureNames[0:10])\n",
    "plt.xlabel('Importance of Feature')"
   ]
  },
  {
   "cell_type": "code",
   "execution_count": 39,
   "metadata": {},
   "outputs": [
    {
     "name": "stdout",
     "output_type": "stream",
     "text": [
      "Least Amount of Error: 0.28293976047682423\n",
      "Best Depth: 5\n"
     ]
    }
   ],
   "source": [
    "# This changes the depth of the tree to see which is the best. This is just calculations.\n",
    "grid_para_tree = [\n",
    "    {'max_depth': range(1, 31)}\n",
    "]\n",
    "\n",
    "tree_model.set_params(random_state=0)\n",
    "grid_search_tree = ms.GridSearchCV(tree_model, grid_para_tree, cv=5, n_jobs=-1, return_train_score=True)\n",
    "grid_search_tree.fit(X_train, Y_train)\n",
    "\n",
    "\n",
    "# This lets us know the best score.\n",
    "print('Least Amount of Error:', 1 - grid_search_tree.best_score_)\n",
    "print('Best Depth:',grid_search_tree.best_index_)"
   ]
  },
  {
   "cell_type": "code",
   "execution_count": 40,
   "metadata": {
    "scrolled": true
   },
   "outputs": [
    {
     "data": {
      "text/plain": [
       "Text(0.5, 0, 'depth')"
      ]
     },
     "execution_count": 40,
     "metadata": {},
     "output_type": "execute_result"
    },
    {
     "data": {
      "image/png": "[encoded data removed]",
      "text/plain": [
       "<Figure size 432x288 with 1 Axes>"
      ]
     },
     "metadata": {
      "needs_background": "light"
     },
     "output_type": "display_data"
    }
   ],
   "source": [
    "# This plots where we decide to choose (5)\n",
    "\n",
    "depth  = range(1, 30)\n",
    "tree_train = []\n",
    "tree_test = []\n",
    "for i in depth:\n",
    "    tree_model.set_params(max_depth = i)\n",
    "    error = get_error(X_train, Y_train, X_test, Y_test, tree_model, show=False)\n",
    "    tree_train.append(error[0])\n",
    "    tree_test.append(error[1])\n",
    "\n",
    "\n",
    "plt.plot(depth, tree_train, c = 'blue', label='training error')\n",
    "plt.plot(depth, tree_test, c = 'red', label='test error')\n",
    "plt.legend(loc=7)\n",
    "plt.xlabel('depth')"
   ]
  },
  {
   "cell_type": "markdown",
   "metadata": {},
   "source": [
    "### Forest Model"
   ]
  },
  {
   "cell_type": "code",
   "execution_count": 41,
   "metadata": {},
   "outputs": [
    {
     "name": "stdout",
     "output_type": "stream",
     "text": [
      "The training error is: 0.01989\n",
      "The test error is: 0.14117\n"
     ]
    }
   ],
   "source": [
    "# Forest Modeling\n",
    "\n",
    "randomForest = ensemble.RandomForestRegressor()\n",
    "randomForest.fit(X_train, Y_train) \n",
    "\n",
    "print(\"The training error is: %.5f\" % (1 - randomForest.score(X_train, Y_train)))\n",
    "print(\"The test error is: %.5f\" % (1 - randomForest.score(X_test, Y_test)))\n",
    "\n",
    "# Random forest does much better."
   ]
  },
  {
   "cell_type": "code",
   "execution_count": 150,
   "metadata": {
    "scrolled": true
   },
   "outputs": [
    {
     "data": {
      "text/plain": [
       "Text(0.5, 0, 'Importance of Feature')"
      ]
     },
     "execution_count": 150,
     "metadata": {},
     "output_type": "execute_result"
    },
    {
     "data": {
      "image/png": "[encoded data removed]",
      "text/plain": [
       "<Figure size 432x288 with 1 Axes>"
      ]
     },
     "metadata": {
      "needs_background": "light"
     },
     "output_type": "display_data"
    }
   ],
   "source": [
    "# Calculates the important features for Forests\n",
    "feature_importance = list(zip(X.columns, randomForest.feature_importances_))\n",
    "dtype = [('feature', 'S10'), ('importance', 'float')]\n",
    "feature_importance = np.array(feature_importance, dtype=dtype)\n",
    "feature_sort = np.sort(feature_importance, order='importance')[::-1]\n",
    "\n",
    "# This plots the top 10 features based on importance\n",
    "featureNames, featureScores = zip(*list(feature_sort))\n",
    "plt.barh(range(0,10), featureScores[0:10], tick_label=featureNames[0:10])\n",
    "plt.xlabel('Importance of Feature')\n",
    "\n",
    "# We see that there are few differences in which features are the most important"
   ]
  },
  {
   "cell_type": "markdown",
   "metadata": {},
   "source": [
    "### Ridge, Lasso and Elastic Net Model"
   ]
  },
  {
   "cell_type": "code",
   "execution_count": 43,
   "metadata": {},
   "outputs": [],
   "source": [
    "# Linear Regression with Ridge, Lasso and Elastic net\n",
    "from sklearn.linear_model import Ridge, Lasso, ElasticNet, LinearRegression\n",
    "ridge = Ridge()\n",
    "lasso = Lasso()\n",
    "net   = ElasticNet()"
   ]
  },
  {
   "cell_type": "code",
   "execution_count": 96,
   "metadata": {},
   "outputs": [
    {
     "name": "stdout",
     "output_type": "stream",
     "text": [
      "Training Score:\n",
      "0.9057794565366141\n",
      "Test Score:\n",
      "0.8003683489531108\n"
     ]
    }
   ],
   "source": [
    "# Ridge\n",
    "ridge.set_params(alpha=1.0, normalize=True)\n",
    "ridge.fit(X_train, Y_train)\n",
    "print('Training Score:', ridge.score(X_train, Y_train), sep='\\n')\n",
    "print('Test Score:', ridge.score(X_test, Y_test), sep='\\n')"
   ]
  },
  {
   "cell_type": "code",
   "execution_count": 103,
   "metadata": {},
   "outputs": [],
   "source": [
    "# Choosing from a range of alphas to see what is a good value\n",
    "coefs = []\n",
    "intercepts = []\n",
    "R2_train  = []\n",
    "R2_test = []\n",
    "alphaRange = np.linspace(1,30,200)\n",
    "for alpha in alphaRange:\n",
    "    ridge.set_params(alpha=alpha)  \n",
    "    ridge.fit(X_train, Y_train)\n",
    "    intercepts.append(ridge.intercept_)\n",
    "    coefs.append(ridge.coef_)\n",
    "    R2_train.append(ridge.score(X_train, Y_train))\n",
    "    R2_test.append(ridge.score(X_test, Y_test))"
   ]
  },
  {
   "cell_type": "code",
   "execution_count": 104,
   "metadata": {
    "scrolled": true
   },
   "outputs": [
    {
     "data": {
      "image/png": "[encoded data removed]",
      "text/plain": [
       "<Figure size 432x288 with 1 Axes>"
      ]
     },
     "metadata": {
      "needs_background": "light"
     },
     "output_type": "display_data"
    }
   ],
   "source": [
    "# Using the plot to estimate a good alpha\n",
    "plt.plot(alphaRange, R2_train)\n",
    "plt.plot(alphaRange, R2_test)\n",
    "plt.legend(('Train', 'Test'))\n",
    "plt.xlabel('Alpha')\n",
    "plt.ylabel('R^2')\n",
    "plt.show()\n",
    "# Looks like our model overfits and always stays above test. A small alpha of about 1.4 gives us the best result."
   ]
  },
  {
   "cell_type": "code",
   "execution_count": 145,
   "metadata": {},
   "outputs": [
    {
     "name": "stdout",
     "output_type": "stream",
     "text": [
      "Training Score:\n",
      "0.0\n",
      "Testing Score:\n",
      "-7.992313858662392e-05\n"
     ]
    }
   ],
   "source": [
    "# Lasso\n",
    "lasso.set_params(alpha=1, normalize=True)\n",
    "lasso.fit(X_train, Y_train)\n",
    "print('Training Score:', lasso.score(X_train, Y_train), sep='\\n')\n",
    "print('Testing Score:', lasso.score(X_test, Y_test), sep='\\n')\n",
    "# Clearly, alpha was too large."
   ]
  },
  {
   "cell_type": "code",
   "execution_count": 116,
   "metadata": {
    "scrolled": true
   },
   "outputs": [],
   "source": [
    "# Choosing from a range of alphas to see what is a good value\n",
    "coefs = []\n",
    "intercepts = []\n",
    "R2_train  = []\n",
    "R2_test = []\n",
    "alphaRange = np.linspace(1e-3,0.01,200)\n",
    "for alpha in alphaRange:\n",
    "    lasso.set_params(alpha=alpha)  \n",
    "    lasso.fit(X_train, Y_train)\n",
    "    intercepts.append(lasso.intercept_)\n",
    "    coefs.append(lasso.coef_)\n",
    "    R2_train.append(lasso.score(X_train, Y_train))\n",
    "    R2_test.append(lasso.score(X_test, Y_test))"
   ]
  },
  {
   "cell_type": "code",
   "execution_count": 117,
   "metadata": {},
   "outputs": [
    {
     "data": {
      "image/png": "[encoded data removed]",
      "text/plain": [
       "<Figure size 432x288 with 1 Axes>"
      ]
     },
     "metadata": {
      "needs_background": "light"
     },
     "output_type": "display_data"
    }
   ],
   "source": [
    "# Using the plot to find a good alpha.\n",
    "plt.plot(alphaRange, R2_train)\n",
    "plt.plot(alphaRange, R2_test)\n",
    "plt.legend(('Train', 'Test'))\n",
    "plt.xlabel('Alpha')\n",
    "plt.ylabel('R^2')\n",
    "plt.show()\n",
    "# We see that it crosses at about 0.001. So it is a good alpha to choose from."
   ]
  },
  {
   "cell_type": "code",
   "execution_count": 136,
   "metadata": {},
   "outputs": [
    {
     "name": "stdout",
     "output_type": "stream",
     "text": [
      "Training Score:\n",
      "0.8430054396174362\n",
      "Testing Score:\n",
      "0.7905442097409962\n"
     ]
    }
   ],
   "source": [
    "# Lasso Redone\n",
    "lasso.set_params(alpha=0.001, normalize=True)\n",
    "lasso.fit(X_train, Y_train)\n",
    "print('Training Score:', lasso.score(X_train, Y_train), sep='\\n')\n",
    "print('Testing Score:', lasso.score(X_test, Y_test), sep='\\n')"
   ]
  },
  {
   "cell_type": "code",
   "execution_count": 144,
   "metadata": {},
   "outputs": [
    {
     "name": "stdout",
     "output_type": "stream",
     "text": [
      "Training Score:\n",
      "0.0\n",
      "Testing Score:\n",
      "-7.992313858662392e-05\n"
     ]
    }
   ],
   "source": [
    "# Elastic Net\n",
    "net.set_params(alpha=1, normalize=True)\n",
    "net.fit(X_train, Y_train)\n",
    "print('Training Score:', net.score(X_train, Y_train), sep='\\n')\n",
    "print('Testing Score:', net.score(X_test, Y_test), sep='\\n')\n",
    "# Needs a smaller alpha."
   ]
  },
  {
   "cell_type": "code",
   "execution_count": 140,
   "metadata": {},
   "outputs": [],
   "source": [
    "# Test out some alphas.\n",
    "coefs = []\n",
    "intercepts = []\n",
    "R2_train  = []\n",
    "R2_test = []\n",
    "alphaRange = np.linspace(1e-3,0.01,200)\n",
    "for alpha in alphaRange:\n",
    "    net.set_params(alpha=alpha)  \n",
    "    net.fit(X_train, Y_train)\n",
    "    intercepts.append(net.intercept_)\n",
    "    coefs.append(net.coef_)\n",
    "    R2_train.append(net.score(X_train, Y_train))\n",
    "    R2_test.append(net.score(X_test, Y_test))"
   ]
  },
  {
   "cell_type": "code",
   "execution_count": 141,
   "metadata": {},
   "outputs": [
    {
     "data": {
      "image/png": "[encoded data removed]",
      "text/plain": [
       "<Figure size 432x288 with 1 Axes>"
      ]
     },
     "metadata": {
      "needs_background": "light"
     },
     "output_type": "display_data"
    }
   ],
   "source": [
    "# Plotting alphas compared to R^2\n",
    "plt.plot(alphaRange, R2_train)\n",
    "plt.plot(alphaRange, R2_test)\n",
    "plt.legend(('Train', 'Test'))\n",
    "plt.xlabel('Alpha')\n",
    "plt.ylabel('R^2')\n",
    "plt.show()\n",
    "# Looks like 0.003 is a good value"
   ]
  },
  {
   "cell_type": "code",
   "execution_count": 143,
   "metadata": {
    "scrolled": true
   },
   "outputs": [
    {
     "name": "stdout",
     "output_type": "stream",
     "text": [
      "Training Score:\n",
      "0.7315576274212015\n",
      "Testing Score:\n",
      "0.7252742307843194\n"
     ]
    }
   ],
   "source": [
    "# Elastic Net Redone.\n",
    "net.set_params(alpha=0.003, normalize=True)\n",
    "net.fit(X_train, Y_train)\n",
    "print('Training Score:', net.score(X_train, Y_train), sep='\\n')\n",
    "print('Testing Score:', net.score(X_test, Y_test), sep='\\n')"
   ]
  },
  {
   "cell_type": "markdown",
   "metadata": {},
   "source": [
    "## Conclusion\n",
    "The best result from this was the random forest and is perhaps the most reliable. It seems that overall quality of the house is what matters the most for the sales price as well as number of cars that can fit in the garage."
   ]
  }
 ],
 "metadata": {
  "kernelspec": {
   "display_name": "Python 3",
   "language": "python",
   "name": "python3"
  },
  "language_info": {
   "codemirror_mode": {
    "name": "ipython",
    "version": 3
   },
   "file_extension": ".py",
   "mimetype": "text/x-python",
   "name": "python",
   "nbconvert_exporter": "python",
   "pygments_lexer": "ipython3",
   "version": "3.8.3"
  }
 },
 "nbformat": 4,
 "nbformat_minor": 4
}
